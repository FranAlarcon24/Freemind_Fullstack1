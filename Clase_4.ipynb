{
  "nbformat": 4,
  "nbformat_minor": 0,
  "metadata": {
    "colab": {
      "provenance": [],
      "authorship_tag": "ABX9TyOS+9DmbitqnF7h0iIyyWfq",
      "include_colab_link": true
    },
    "kernelspec": {
      "name": "python3",
      "display_name": "Python 3"
    },
    "language_info": {
      "name": "python"
    }
  },
  "cells": [
    {
      "cell_type": "markdown",
      "metadata": {
        "id": "view-in-github",
        "colab_type": "text"
      },
      "source": [
        "<a href=\"https://colab.research.google.com/github/FranAlarcon24/Freemind_Fullstack1/blob/main/Clase_4.ipynb\" target=\"_parent\"><img src=\"https://colab.research.google.com/assets/colab-badge.svg\" alt=\"Open In Colab\"/></a>"
      ]
    },
    {
      "cell_type": "code",
      "execution_count": 4,
      "metadata": {
        "colab": {
          "base_uri": "https://localhost:8080/"
        },
        "id": "jbjdoiXP1nK0",
        "outputId": "c197d98b-5c66-4857-9bc2-1f73bc22ec0a"
      },
      "outputs": [
        {
          "output_type": "stream",
          "name": "stdout",
          "text": [
            "Iquique: 7150000\n",
            "Santiago: 11350000\n",
            "Concepción: 8850000\n"
          ]
        }
      ],
      "source": [
        "#Indexación - Segmentación\n",
        "\n",
        "#Integrantes: Francisca Alarcón, Alejandra C, Caroline Arredondo, Fabiana Barria, Yosseline Navarro.\n",
        "\n",
        "import numpy as np\n",
        "\n",
        "R = np.array([[50, 70],\n",
        "              [80, 110],\n",
        "              [60, 90]])\n",
        "\n",
        "C = np.array([80000, 45000])\n",
        "\n",
        "costo_iquique = R[0][0] * C[0] + R[0][1] * C[1]\n",
        "\n",
        "costo_santiago = R[1][0] * C[0] + R[1][1] * C[1]\n",
        "\n",
        "costo_concepcion = R[2][0] * C[0] + R[2][1] * C[1]\n",
        "\n",
        "print(\"Iquique:\", costo_iquique)\n",
        "print(\"Santiago:\", costo_santiago)\n",
        "print(\"Concepción:\", costo_concepcion)"
      ]
    }
  ]
}